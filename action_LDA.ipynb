{
 "cells": [
  {
   "cell_type": "code",
   "execution_count": 1,
   "metadata": {},
   "outputs": [
    {
     "name": "stderr",
     "output_type": "stream",
     "text": [
      "[nltk_data] Downloading package omw-1.4 to\n",
      "[nltk_data]     C:\\Users\\USER\\AppData\\Roaming\\nltk_data...\n",
      "[nltk_data]   Package omw-1.4 is already up-to-date!\n"
     ]
    }
   ],
   "source": [
    "import gensim\n",
    "import pandas as pd\n",
    "from topic_modeling import preprocess\n",
    "from topic_modeling import LDA"
   ]
  },
  {
   "cell_type": "code",
   "execution_count": 2,
   "metadata": {},
   "outputs": [
    {
     "data": {
      "text/html": [
       "<div>\n",
       "<style scoped>\n",
       "    .dataframe tbody tr th:only-of-type {\n",
       "        vertical-align: middle;\n",
       "    }\n",
       "\n",
       "    .dataframe tbody tr th {\n",
       "        vertical-align: top;\n",
       "    }\n",
       "\n",
       "    .dataframe thead th {\n",
       "        text-align: right;\n",
       "    }\n",
       "</style>\n",
       "<table border=\"1\" class=\"dataframe\">\n",
       "  <thead>\n",
       "    <tr style=\"text-align: right;\">\n",
       "      <th></th>\n",
       "      <th>anime_ID</th>\n",
       "      <th>Title</th>\n",
       "      <th>Japanese</th>\n",
       "      <th>English</th>\n",
       "      <th>Synopsis</th>\n",
       "      <th>Type</th>\n",
       "      <th>Episodes</th>\n",
       "      <th>Status</th>\n",
       "      <th>Start_Aired</th>\n",
       "      <th>End_Aired</th>\n",
       "      <th>...</th>\n",
       "      <th>Themes</th>\n",
       "      <th>Demographics</th>\n",
       "      <th>Duration_Minutes</th>\n",
       "      <th>Rating</th>\n",
       "      <th>Score</th>\n",
       "      <th>Scored_Users</th>\n",
       "      <th>Ranked</th>\n",
       "      <th>Popularity</th>\n",
       "      <th>Members</th>\n",
       "      <th>Favorites</th>\n",
       "    </tr>\n",
       "  </thead>\n",
       "  <tbody>\n",
       "    <tr>\n",
       "      <th>0</th>\n",
       "      <td>4462</td>\n",
       "      <td>Tairiki Tarou no Mucha Shuugyou</td>\n",
       "      <td>大力太郎の無茶修業</td>\n",
       "      <td>Mighty Taro's Reckless Training</td>\n",
       "      <td>Short film from 1928 about a samurai fighting ...</td>\n",
       "      <td>Movie</td>\n",
       "      <td>1.0</td>\n",
       "      <td>Finished Airing</td>\n",
       "      <td>1928-01-01</td>\n",
       "      <td>NaN</td>\n",
       "      <td>...</td>\n",
       "      <td>Unknown</td>\n",
       "      <td>Unknown</td>\n",
       "      <td>1.0</td>\n",
       "      <td>G - All Ages</td>\n",
       "      <td>4.681</td>\n",
       "      <td>851.0</td>\n",
       "      <td>127802.0</td>\n",
       "      <td>10927</td>\n",
       "      <td>1465</td>\n",
       "      <td>1</td>\n",
       "    </tr>\n",
       "    <tr>\n",
       "      <th>1</th>\n",
       "      <td>28045</td>\n",
       "      <td>Kogane no Hana</td>\n",
       "      <td>こがねの花</td>\n",
       "      <td>The Golden Flower</td>\n",
       "      <td>A man has a strange adventure on a hill as he ...</td>\n",
       "      <td>Movie</td>\n",
       "      <td>1.0</td>\n",
       "      <td>Finished Airing</td>\n",
       "      <td>1929-03-12</td>\n",
       "      <td>NaN</td>\n",
       "      <td>...</td>\n",
       "      <td>Historical</td>\n",
       "      <td>Unknown</td>\n",
       "      <td>16.0</td>\n",
       "      <td>G - All Ages</td>\n",
       "      <td>4.751</td>\n",
       "      <td>465.0</td>\n",
       "      <td>127132.0</td>\n",
       "      <td>12062</td>\n",
       "      <td>950</td>\n",
       "      <td>0</td>\n",
       "    </tr>\n",
       "    <tr>\n",
       "      <th>2</th>\n",
       "      <td>5873</td>\n",
       "      <td>Tarou-san no Kisha</td>\n",
       "      <td>太郎さんの汽車</td>\n",
       "      <td>Taro's Toy Train</td>\n",
       "      <td>A combination of live action, traditional anim...</td>\n",
       "      <td>Movie</td>\n",
       "      <td>1.0</td>\n",
       "      <td>Finished Airing</td>\n",
       "      <td>1929-06-18</td>\n",
       "      <td>NaN</td>\n",
       "      <td>...</td>\n",
       "      <td>Unknown</td>\n",
       "      <td>Unknown</td>\n",
       "      <td>15.0</td>\n",
       "      <td>G - All Ages</td>\n",
       "      <td>5.401</td>\n",
       "      <td>868.0</td>\n",
       "      <td>114312.0</td>\n",
       "      <td>10603</td>\n",
       "      <td>1673</td>\n",
       "      <td>2</td>\n",
       "    </tr>\n",
       "    <tr>\n",
       "      <th>3</th>\n",
       "      <td>5811</td>\n",
       "      <td>Nezumi no Rusuban</td>\n",
       "      <td>鼠の留守番</td>\n",
       "      <td>Home Alone Mice</td>\n",
       "      <td>Short movie from 1931.</td>\n",
       "      <td>Movie</td>\n",
       "      <td>1.0</td>\n",
       "      <td>Finished Airing</td>\n",
       "      <td>1931-01-01</td>\n",
       "      <td>NaN</td>\n",
       "      <td>...</td>\n",
       "      <td>Unknown</td>\n",
       "      <td>Unknown</td>\n",
       "      <td>1.0</td>\n",
       "      <td>G - All Ages</td>\n",
       "      <td>4.481</td>\n",
       "      <td>649.0</td>\n",
       "      <td>129152.0</td>\n",
       "      <td>11599</td>\n",
       "      <td>1125</td>\n",
       "      <td>0</td>\n",
       "    </tr>\n",
       "    <tr>\n",
       "      <th>4</th>\n",
       "      <td>5813</td>\n",
       "      <td>Urashima Tarou (1931)</td>\n",
       "      <td>浦島太郎</td>\n",
       "      <td>Taro Urashima</td>\n",
       "      <td>Urashima Taro is based on a well-known Japanes...</td>\n",
       "      <td>Movie</td>\n",
       "      <td>1.0</td>\n",
       "      <td>Finished Airing</td>\n",
       "      <td>1931-01-01</td>\n",
       "      <td>NaN</td>\n",
       "      <td>...</td>\n",
       "      <td>Unknown</td>\n",
       "      <td>Unknown</td>\n",
       "      <td>1.0</td>\n",
       "      <td>G - All Ages</td>\n",
       "      <td>4.511</td>\n",
       "      <td>1196.0</td>\n",
       "      <td>129002.0</td>\n",
       "      <td>10025</td>\n",
       "      <td>2055</td>\n",
       "      <td>1</td>\n",
       "    </tr>\n",
       "  </tbody>\n",
       "</table>\n",
       "<p>5 rows × 25 columns</p>\n",
       "</div>"
      ],
      "text/plain": [
       "   anime_ID                            Title   Japanese  \\\n",
       "0      4462  Tairiki Tarou no Mucha Shuugyou  大力太郎の無茶修業   \n",
       "1     28045                   Kogane no Hana      こがねの花   \n",
       "2      5873               Tarou-san no Kisha    太郎さんの汽車   \n",
       "3      5811                Nezumi no Rusuban      鼠の留守番   \n",
       "4      5813            Urashima Tarou (1931)       浦島太郎   \n",
       "\n",
       "                           English  \\\n",
       "0  Mighty Taro's Reckless Training   \n",
       "1                The Golden Flower   \n",
       "2                 Taro's Toy Train   \n",
       "3                  Home Alone Mice   \n",
       "4                    Taro Urashima   \n",
       "\n",
       "                                            Synopsis   Type  Episodes  \\\n",
       "0  Short film from 1928 about a samurai fighting ...  Movie       1.0   \n",
       "1  A man has a strange adventure on a hill as he ...  Movie       1.0   \n",
       "2  A combination of live action, traditional anim...  Movie       1.0   \n",
       "3                             Short movie from 1931.  Movie       1.0   \n",
       "4  Urashima Taro is based on a well-known Japanes...  Movie       1.0   \n",
       "\n",
       "            Status Start_Aired End_Aired  ...      Themes Demographics  \\\n",
       "0  Finished Airing  1928-01-01       NaN  ...     Unknown      Unknown   \n",
       "1  Finished Airing  1929-03-12       NaN  ...  Historical      Unknown   \n",
       "2  Finished Airing  1929-06-18       NaN  ...     Unknown      Unknown   \n",
       "3  Finished Airing  1931-01-01       NaN  ...     Unknown      Unknown   \n",
       "4  Finished Airing  1931-01-01       NaN  ...     Unknown      Unknown   \n",
       "\n",
       "  Duration_Minutes        Rating  Score Scored_Users    Ranked  Popularity  \\\n",
       "0              1.0  G - All Ages  4.681        851.0  127802.0       10927   \n",
       "1             16.0  G - All Ages  4.751        465.0  127132.0       12062   \n",
       "2             15.0  G - All Ages  5.401        868.0  114312.0       10603   \n",
       "3              1.0  G - All Ages  4.481        649.0  129152.0       11599   \n",
       "4              1.0  G - All Ages  4.511       1196.0  129002.0       10025   \n",
       "\n",
       "  Members  Favorites  \n",
       "0    1465          1  \n",
       "1     950          0  \n",
       "2    1673          2  \n",
       "3    1125          0  \n",
       "4    2055          1  \n",
       "\n",
       "[5 rows x 25 columns]"
      ]
     },
     "execution_count": 2,
     "metadata": {},
     "output_type": "execute_result"
    }
   ],
   "source": [
    "action_anime = pd.read_csv('./genres/Action.csv')\n",
    "action_anime.head()"
   ]
  },
  {
   "cell_type": "code",
   "execution_count": 7,
   "metadata": {},
   "outputs": [],
   "source": [
    "word_no_stopword = preprocess.LDA_preprocess_pipeline(action_anime, 'NN', 'NNS', 'VBD', 'VBG', 'VBN', 'VBZ', 'VBP', 'VB')"
   ]
  },
  {
   "cell_type": "code",
   "execution_count": 8,
   "metadata": {},
   "outputs": [
    {
     "name": "stderr",
     "output_type": "stream",
     "text": [
      "100%|██████████| 14/14 [05:48<00:00, 24.91s/it]\n"
     ]
    },
    {
     "data": {
      "image/png": "[encoded data removed]",
      "text/plain": [
       "<Figure size 432x288 with 1 Axes>"
      ]
     },
     "metadata": {
      "needs_background": "light"
     },
     "output_type": "display_data"
    }
   ],
   "source": [
    "coherence_score, lda_model = LDA.make_LDA(word_no_stopword, 1, 15, 1)"
   ]
  },
  {
   "cell_type": "code",
   "execution_count": 9,
   "metadata": {},
   "outputs": [
    {
     "name": "stdout",
     "output_type": "stream",
     "text": [
      "[(0,\n",
      "  '0.024*\"world\" + 0.013*\"year\" + 0.011*\"power\" + 0.009*\"fight\" + '\n",
      "  '0.008*\"battle\" + 0.008*\"source\" + 0.007*\"war\" + 0.007*\"know\" + '\n",
      "  '0.007*\"people\" + 0.007*\"life\"'),\n",
      " (1,\n",
      "  '0.016*\"city\" + 0.014*\"write\" + 0.014*\"rewrite\" + 0.009*\"god\" + '\n",
      "  '0.007*\"continue\" + 0.006*\"spirit\" + 0.006*\"group\" + 0.006*\"search\" + '\n",
      "  '0.006*\"memory\" + 0.006*\"take\"'),\n",
      " (2,\n",
      "  '0.019*\"write\" + 0.019*\"rewrite\" + 0.009*\"school\" + 0.008*\"girl\" + '\n",
      "  '0.008*\"find\" + 0.007*\"day\" + 0.007*\"life\" + 0.007*\"become\" + 0.007*\"friend\" '\n",
      "  '+ 0.006*\"get\"'),\n",
      " (3,\n",
      "  '0.026*\"season\" + 0.016*\"series\" + 0.013*\"episode\" + 0.011*\"game\" + '\n",
      "  '0.009*\"anime\" + 0.009*\"story\" + 0.009*\"release\" + 0.008*\"character\" + '\n",
      "  '0.008*\"movie\" + 0.008*\"song\"')]\n",
      "0.4872280689704305\n"
     ]
    }
   ],
   "source": [
    "from pprint import pprint\n",
    "\n",
    "# Print the Keyword in the 10 topics\n",
    "pprint(lda_model.print_topics())\n",
    "print(coherence_score)"
   ]
  }
 ],
 "metadata": {
  "kernelspec": {
   "display_name": "Python 3.9.12 ('base')",
   "language": "python",
   "name": "python3"
  },
  "language_info": {
   "codemirror_mode": {
    "name": "ipython",
    "version": 3
   },
   "file_extension": ".py",
   "mimetype": "text/x-python",
   "name": "python",
   "nbconvert_exporter": "python",
   "pygments_lexer": "ipython3",
   "version": "3.9.12"
  },
  "orig_nbformat": 4,
  "vscode": {
   "interpreter": {
    "hash": "263930470851f494f0ed2879c35b57985588df20f9e529b86e97dd5eb9ddc466"
   }
  }
 },
 "nbformat": 4,
 "nbformat_minor": 2
}
