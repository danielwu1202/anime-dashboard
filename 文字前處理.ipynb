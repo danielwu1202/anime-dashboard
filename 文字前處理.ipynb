{
 "cells": [
  {
   "cell_type": "code",
   "execution_count": 1,
   "metadata": {},
   "outputs": [],
   "source": [
    "import pandas as pd\n",
    "from text_preprocess import text_clean"
   ]
  },
  {
   "cell_type": "code",
   "execution_count": 2,
   "metadata": {},
   "outputs": [
    {
     "data": {
      "text/html": [
       "<div>\n",
       "<style scoped>\n",
       "    .dataframe tbody tr th:only-of-type {\n",
       "        vertical-align: middle;\n",
       "    }\n",
       "\n",
       "    .dataframe tbody tr th {\n",
       "        vertical-align: top;\n",
       "    }\n",
       "\n",
       "    .dataframe thead th {\n",
       "        text-align: right;\n",
       "    }\n",
       "</style>\n",
       "<table border=\"1\" class=\"dataframe\">\n",
       "  <thead>\n",
       "    <tr style=\"text-align: right;\">\n",
       "      <th></th>\n",
       "      <th>ID</th>\n",
       "      <th>Title</th>\n",
       "      <th>Japanese</th>\n",
       "      <th>English</th>\n",
       "      <th>Synopsis</th>\n",
       "      <th>Type</th>\n",
       "      <th>Episodes</th>\n",
       "      <th>Status</th>\n",
       "      <th>Start_Aired</th>\n",
       "      <th>End_Aired</th>\n",
       "      <th>...</th>\n",
       "      <th>Demographics</th>\n",
       "      <th>Duration_Minutes</th>\n",
       "      <th>Rating</th>\n",
       "      <th>Score</th>\n",
       "      <th>Scored_Users</th>\n",
       "      <th>Ranked</th>\n",
       "      <th>Popularity</th>\n",
       "      <th>Members</th>\n",
       "      <th>Favorites</th>\n",
       "      <th>year</th>\n",
       "    </tr>\n",
       "  </thead>\n",
       "  <tbody>\n",
       "    <tr>\n",
       "      <th>0</th>\n",
       "      <td>23651</td>\n",
       "      <td>Hanawa Hekonai Kappa Matsuri</td>\n",
       "      <td>塙凹内かっぱまつり</td>\n",
       "      <td>Unknown</td>\n",
       "      <td>Unknown</td>\n",
       "      <td>Movie</td>\n",
       "      <td>1.0</td>\n",
       "      <td>Finished Airing</td>\n",
       "      <td>1917</td>\n",
       "      <td>Not Available</td>\n",
       "      <td>...</td>\n",
       "      <td>Kids</td>\n",
       "      <td>NaN</td>\n",
       "      <td>G - All Ages</td>\n",
       "      <td>NaN</td>\n",
       "      <td>NaN</td>\n",
       "      <td>182382.0</td>\n",
       "      <td>15844</td>\n",
       "      <td>308</td>\n",
       "      <td>2</td>\n",
       "      <td>1917.0</td>\n",
       "    </tr>\n",
       "    <tr>\n",
       "      <th>1</th>\n",
       "      <td>24857</td>\n",
       "      <td>Akagaki Genzou: Tokuri no Wakare</td>\n",
       "      <td>赤垣源蔵徳利の別れ</td>\n",
       "      <td>Unknown</td>\n",
       "      <td>Unknown</td>\n",
       "      <td>Movie</td>\n",
       "      <td>1.0</td>\n",
       "      <td>Finished Airing</td>\n",
       "      <td>1924</td>\n",
       "      <td>Not Available</td>\n",
       "      <td>...</td>\n",
       "      <td>Unknown</td>\n",
       "      <td>NaN</td>\n",
       "      <td>G - All Ages</td>\n",
       "      <td>NaN</td>\n",
       "      <td>NaN</td>\n",
       "      <td>167672.0</td>\n",
       "      <td>16200</td>\n",
       "      <td>285</td>\n",
       "      <td>0</td>\n",
       "      <td>1924.0</td>\n",
       "    </tr>\n",
       "    <tr>\n",
       "      <th>2</th>\n",
       "      <td>28689</td>\n",
       "      <td>Noroma na Jiji</td>\n",
       "      <td>のろまな爺</td>\n",
       "      <td>An Old Fool</td>\n",
       "      <td>An early Noburou Oofuji film, it was artificia...</td>\n",
       "      <td>Movie</td>\n",
       "      <td>1.0</td>\n",
       "      <td>Finished Airing</td>\n",
       "      <td>1924</td>\n",
       "      <td>Not Available</td>\n",
       "      <td>...</td>\n",
       "      <td>Unknown</td>\n",
       "      <td>5.0</td>\n",
       "      <td>G - All Ages</td>\n",
       "      <td>NaN</td>\n",
       "      <td>NaN</td>\n",
       "      <td>139452.0</td>\n",
       "      <td>16496</td>\n",
       "      <td>264</td>\n",
       "      <td>0</td>\n",
       "      <td>1924.0</td>\n",
       "    </tr>\n",
       "    <tr>\n",
       "      <th>3</th>\n",
       "      <td>7494</td>\n",
       "      <td>Usagi to Kame</td>\n",
       "      <td>兎と亀</td>\n",
       "      <td>Unknown</td>\n",
       "      <td>A retelling of the classic Aesop Fable, The To...</td>\n",
       "      <td>Movie</td>\n",
       "      <td>1.0</td>\n",
       "      <td>Finished Airing</td>\n",
       "      <td>1924</td>\n",
       "      <td>Not Available</td>\n",
       "      <td>...</td>\n",
       "      <td>Unknown</td>\n",
       "      <td>9.0</td>\n",
       "      <td>G - All Ages</td>\n",
       "      <td>5.201</td>\n",
       "      <td>774.0</td>\n",
       "      <td>120012.0</td>\n",
       "      <td>11240</td>\n",
       "      <td>1298</td>\n",
       "      <td>2</td>\n",
       "      <td>1924.0</td>\n",
       "    </tr>\n",
       "    <tr>\n",
       "      <th>4</th>\n",
       "      <td>34969</td>\n",
       "      <td>Senga Tsubo</td>\n",
       "      <td>線畫 つぼ</td>\n",
       "      <td>The Pot</td>\n",
       "      <td>Classical animation directed by Yamamoto Sanae.</td>\n",
       "      <td>Movie</td>\n",
       "      <td>1.0</td>\n",
       "      <td>Finished Airing</td>\n",
       "      <td>1925</td>\n",
       "      <td>Not Available</td>\n",
       "      <td>...</td>\n",
       "      <td>Unknown</td>\n",
       "      <td>17.0</td>\n",
       "      <td>G - All Ages</td>\n",
       "      <td>5.431</td>\n",
       "      <td>373.0</td>\n",
       "      <td>113182.0</td>\n",
       "      <td>13092</td>\n",
       "      <td>673</td>\n",
       "      <td>0</td>\n",
       "      <td>1925.0</td>\n",
       "    </tr>\n",
       "  </tbody>\n",
       "</table>\n",
       "<p>5 rows × 26 columns</p>\n",
       "</div>"
      ],
      "text/plain": [
       "      ID                             Title   Japanese      English  \\\n",
       "0  23651      Hanawa Hekonai Kappa Matsuri  塙凹内かっぱまつり      Unknown   \n",
       "1  24857  Akagaki Genzou: Tokuri no Wakare  赤垣源蔵徳利の別れ      Unknown   \n",
       "2  28689                    Noroma na Jiji      のろまな爺  An Old Fool   \n",
       "3   7494                     Usagi to Kame        兎と亀      Unknown   \n",
       "4  34969                       Senga Tsubo      線畫 つぼ      The Pot   \n",
       "\n",
       "                                            Synopsis   Type  Episodes  \\\n",
       "0                                            Unknown  Movie       1.0   \n",
       "1                                            Unknown  Movie       1.0   \n",
       "2  An early Noburou Oofuji film, it was artificia...  Movie       1.0   \n",
       "3  A retelling of the classic Aesop Fable, The To...  Movie       1.0   \n",
       "4    Classical animation directed by Yamamoto Sanae.  Movie       1.0   \n",
       "\n",
       "            Status Start_Aired      End_Aired  ... Demographics  \\\n",
       "0  Finished Airing        1917  Not Available  ...         Kids   \n",
       "1  Finished Airing        1924  Not Available  ...      Unknown   \n",
       "2  Finished Airing        1924  Not Available  ...      Unknown   \n",
       "3  Finished Airing        1924  Not Available  ...      Unknown   \n",
       "4  Finished Airing        1925  Not Available  ...      Unknown   \n",
       "\n",
       "  Duration_Minutes        Rating  Score Scored_Users    Ranked Popularity  \\\n",
       "0              NaN  G - All Ages    NaN          NaN  182382.0      15844   \n",
       "1              NaN  G - All Ages    NaN          NaN  167672.0      16200   \n",
       "2              5.0  G - All Ages    NaN          NaN  139452.0      16496   \n",
       "3              9.0  G - All Ages  5.201        774.0  120012.0      11240   \n",
       "4             17.0  G - All Ages  5.431        373.0  113182.0      13092   \n",
       "\n",
       "   Members Favorites    year  \n",
       "0      308         2  1917.0  \n",
       "1      285         0  1924.0  \n",
       "2      264         0  1924.0  \n",
       "3     1298         2  1924.0  \n",
       "4      673         0  1925.0  \n",
       "\n",
       "[5 rows x 26 columns]"
      ]
     },
     "execution_count": 2,
     "metadata": {},
     "output_type": "execute_result"
    }
   ],
   "source": [
    "anime_data = pd.read_csv('anime_data.csv')\n",
    "anime_data.head()"
   ]
  },
  {
   "cell_type": "code",
   "execution_count": 3,
   "metadata": {},
   "outputs": [],
   "source": [
    "synopsis = anime_data['Synopsis']"
   ]
  },
  {
   "cell_type": "code",
   "execution_count": 4,
   "metadata": {},
   "outputs": [
    {
     "data": {
      "text/plain": [
       "0                                                  unknown\n",
       "1                                                  unknown\n",
       "2        an early noburou oofuji film, it was artificia...\n",
       "3        a retelling of the classic aesop fable, the to...\n",
       "4          classical animation directed by yamamoto sanae.\n",
       "                               ...                        \n",
       "21455    subaru sumeragi is the thirteenth head of his ...\n",
       "21456    a new anime adaptation for otomo's highly accl...\n",
       "21457               the second season of da wang rao ming.\n",
       "21458                                              unknown\n",
       "21459    after the golden kingdom is sunk underground b...\n",
       "Name: Synopsis, Length: 21460, dtype: object"
      ]
     },
     "execution_count": 4,
     "metadata": {},
     "output_type": "execute_result"
    }
   ],
   "source": [
    "lowercase = text_clean.lowercase(synopsis)\n",
    "lowercase"
   ]
  },
  {
   "cell_type": "code",
   "execution_count": 5,
   "metadata": {},
   "outputs": [],
   "source": [
    "remove_punctuation_text = text_clean.remove_punctuation(lowercase)"
   ]
  },
  {
   "cell_type": "code",
   "execution_count": 6,
   "metadata": {},
   "outputs": [
    {
     "data": {
      "text/plain": [
       "0                                                  unknown\n",
       "1                                                  unknown\n",
       "2        an early noburou oofuji film it was artificial...\n",
       "3        a retelling of the classic aesop fable the tor...\n",
       "4           classical animation directed by yamamoto sanae\n",
       "                               ...                        \n",
       "21455    subaru sumeragi is the thirteenth head of his ...\n",
       "21456    a new anime adaptation for otomos highly accla...\n",
       "21457                the second season of da wang rao ming\n",
       "21458                                              unknown\n",
       "21459    after the golden kingdom is sunk underground b...\n",
       "Name: Synopsis, Length: 21460, dtype: object"
      ]
     },
     "execution_count": 6,
     "metadata": {},
     "output_type": "execute_result"
    }
   ],
   "source": [
    "remove_punctuation_text"
   ]
  },
  {
   "cell_type": "code",
   "execution_count": 7,
   "metadata": {},
   "outputs": [],
   "source": [
    "remove_digits = text_clean.remove_digits(remove_punctuation_text)"
   ]
  },
  {
   "cell_type": "code",
   "execution_count": 8,
   "metadata": {},
   "outputs": [
    {
     "data": {
      "text/plain": [
       "0                                                  unknown\n",
       "1                                                  unknown\n",
       "2        an early noburou oofuji film it was artificial...\n",
       "3        a retelling of the classic aesop fable the tor...\n",
       "4           classical animation directed by yamamoto sanae\n",
       "                               ...                        \n",
       "21455    subaru sumeragi is the thirteenth head of his ...\n",
       "21456    a new anime adaptation for otomos highly accla...\n",
       "21457                the second season of da wang rao ming\n",
       "21458                                              unknown\n",
       "21459    after the golden kingdom is sunk underground b...\n",
       "Name: Synopsis, Length: 21460, dtype: object"
      ]
     },
     "execution_count": 8,
     "metadata": {},
     "output_type": "execute_result"
    }
   ],
   "source": [
    "remove_digits"
   ]
  },
  {
   "cell_type": "code",
   "execution_count": 9,
   "metadata": {},
   "outputs": [],
   "source": [
    "text_clean.tokenize(anime_data, 'token', remove_digits)"
   ]
  },
  {
   "cell_type": "code",
   "execution_count": 10,
   "metadata": {},
   "outputs": [
    {
     "data": {
      "text/plain": [
       "0                                                [unknown]\n",
       "1                                                [unknown]\n",
       "2        [an, early, noburou, oofuji, film, it, was, ar...\n",
       "3        [a, retelling, of, the, classic, aesop, fable,...\n",
       "4        [classical, animation, directed, by, yamamoto,...\n",
       "                               ...                        \n",
       "21455    [subaru, sumeragi, is, the, thirteenth, head, ...\n",
       "21456    [a, new, anime, adaptation, for, otomos, highl...\n",
       "21457       [the, second, season, of, da, wang, rao, ming]\n",
       "21458                                            [unknown]\n",
       "21459    [after, the, golden, kingdom, is, sunk, underg...\n",
       "Name: token, Length: 21460, dtype: object"
      ]
     },
     "execution_count": 10,
     "metadata": {},
     "output_type": "execute_result"
    }
   ],
   "source": [
    "anime_data['token']"
   ]
  },
  {
   "cell_type": "code",
   "execution_count": 11,
   "metadata": {},
   "outputs": [],
   "source": [
    "token = anime_data['token']"
   ]
  },
  {
   "cell_type": "code",
   "execution_count": 12,
   "metadata": {},
   "outputs": [
    {
     "name": "stdout",
     "output_type": "stream",
     "text": [
      "[list(['unknown']) list(['unknown'])\n",
      " list(['an', 'early', 'noburou', 'oofuji', 'film', 'it', 'was', 'artificially', 'coloured', 'in', 'the', 'senshoku', 'tinting', 'method', 'where', 'the', 'developed', 'film', 'was', 'immersed', 'in', 'dye', 'baths'])\n",
      " ... list(['the', 'second', 'season', 'of', 'da', 'wang', 'rao', 'ming'])\n",
      " list(['unknown'])\n",
      " list(['after', 'the', 'golden', 'kingdom', 'is', 'sunk', 'underground', 'by', 'an', 'insane', 'magician', 'its', 'king', 'emerges', 'promising', 'all', 'of', 'his', 'treasure', 'to', 'any', 'who', 'defeat', 'the', 'magician', 'before', 'crumbling', 'to', 'dust', 'guilds', 'are', 'spurred', 'on', 'by', 'this', 'promise', 'traversing', 'the', 'labyrinthine', 'dungeon', 'in', 'search', 'of', 'the', 'magician', 'laios', 'the', 'leader', 'of', 'one', 'such', 'guild', 'encounters', 'a', 'dragon', 'that', 'wipes', 'out', 'his', 'party', 'and', 'devours', 'his', 'sister', 'falin', 'despite', 'having', 'lost', 'the', 'entirety', 'of', 'their', 'supplies', 'and', 'belongings', 'laios', 'along', 'with', 'marcille', 'an', 'elven', 'healer', 'and', 'chilchuck', 'a', 'halfling', 'thief', 'immediately', 'reenter', 'the', 'dungeon', 'determined', 'to', 'save', 'falin', 'time', 'being', 'of', 'the', 'essence', 'laios', 'suggests', 'the', 'taboo', 'of', 'eating', 'the', 'monsters', 'of', 'the', 'dungeon', 'as', 'a', 'means', 'of', 'gathering', 'supplies', 'upon', 'the', 'preparation', 'of', 'their', 'first', 'meal', 'in', 'the', 'dungeon', 'they', 'are', 'stopped', 'by', 'an', 'onlooking', 'dwarf', 'named', 'senshi', 'an', 'enthusiast', 'of', 'monster', 'cooking', 'he', 'helps', 'them', 'prepare', 'their', 'monster', 'ingredients', 'for', 'safe', 'consumption', 'after', 'learning', 'of', 'laios', 'circumstances', 'senshi', 'expresses', 'his', 'desire', 'to', 'cook', 'a', 'dragon', 'and', 'joins', 'their', 'guild', 'thus', 'beginning', 'their', 'foodfilled', 'foray', 'into', 'the', 'dungeon', 'together', 'written', 'by', 'mal', 'rewrite'])]\n"
     ]
    }
   ],
   "source": [
    "print(token.values)"
   ]
  },
  {
   "cell_type": "code",
   "execution_count": 13,
   "metadata": {},
   "outputs": [],
   "source": [
    "text_clean.remove_stopwords(anime_data, 'without_stopwords', token)"
   ]
  },
  {
   "cell_type": "code",
   "execution_count": 14,
   "metadata": {},
   "outputs": [
    {
     "data": {
      "text/html": [
       "<div>\n",
       "<style scoped>\n",
       "    .dataframe tbody tr th:only-of-type {\n",
       "        vertical-align: middle;\n",
       "    }\n",
       "\n",
       "    .dataframe tbody tr th {\n",
       "        vertical-align: top;\n",
       "    }\n",
       "\n",
       "    .dataframe thead th {\n",
       "        text-align: right;\n",
       "    }\n",
       "</style>\n",
       "<table border=\"1\" class=\"dataframe\">\n",
       "  <thead>\n",
       "    <tr style=\"text-align: right;\">\n",
       "      <th></th>\n",
       "      <th>token</th>\n",
       "      <th>without_stopwords</th>\n",
       "    </tr>\n",
       "  </thead>\n",
       "  <tbody>\n",
       "    <tr>\n",
       "      <th>0</th>\n",
       "      <td>[unknown]</td>\n",
       "      <td>None</td>\n",
       "    </tr>\n",
       "    <tr>\n",
       "      <th>1</th>\n",
       "      <td>[unknown]</td>\n",
       "      <td>None</td>\n",
       "    </tr>\n",
       "    <tr>\n",
       "      <th>2</th>\n",
       "      <td>[an, early, noburou, oofuji, film, it, was, ar...</td>\n",
       "      <td>None</td>\n",
       "    </tr>\n",
       "    <tr>\n",
       "      <th>3</th>\n",
       "      <td>[a, retelling, of, the, classic, aesop, fable,...</td>\n",
       "      <td>None</td>\n",
       "    </tr>\n",
       "    <tr>\n",
       "      <th>4</th>\n",
       "      <td>[classical, animation, directed, by, yamamoto,...</td>\n",
       "      <td>None</td>\n",
       "    </tr>\n",
       "    <tr>\n",
       "      <th>...</th>\n",
       "      <td>...</td>\n",
       "      <td>...</td>\n",
       "    </tr>\n",
       "    <tr>\n",
       "      <th>21455</th>\n",
       "      <td>[subaru, sumeragi, is, the, thirteenth, head, ...</td>\n",
       "      <td>None</td>\n",
       "    </tr>\n",
       "    <tr>\n",
       "      <th>21456</th>\n",
       "      <td>[a, new, anime, adaptation, for, otomos, highl...</td>\n",
       "      <td>None</td>\n",
       "    </tr>\n",
       "    <tr>\n",
       "      <th>21457</th>\n",
       "      <td>[the, second, season, of, da, wang, rao, ming]</td>\n",
       "      <td>None</td>\n",
       "    </tr>\n",
       "    <tr>\n",
       "      <th>21458</th>\n",
       "      <td>[unknown]</td>\n",
       "      <td>None</td>\n",
       "    </tr>\n",
       "    <tr>\n",
       "      <th>21459</th>\n",
       "      <td>[after, the, golden, kingdom, is, sunk, underg...</td>\n",
       "      <td>None</td>\n",
       "    </tr>\n",
       "  </tbody>\n",
       "</table>\n",
       "<p>21460 rows × 2 columns</p>\n",
       "</div>"
      ],
      "text/plain": [
       "                                                   token without_stopwords\n",
       "0                                              [unknown]              None\n",
       "1                                              [unknown]              None\n",
       "2      [an, early, noburou, oofuji, film, it, was, ar...              None\n",
       "3      [a, retelling, of, the, classic, aesop, fable,...              None\n",
       "4      [classical, animation, directed, by, yamamoto,...              None\n",
       "...                                                  ...               ...\n",
       "21455  [subaru, sumeragi, is, the, thirteenth, head, ...              None\n",
       "21456  [a, new, anime, adaptation, for, otomos, highl...              None\n",
       "21457     [the, second, season, of, da, wang, rao, ming]              None\n",
       "21458                                          [unknown]              None\n",
       "21459  [after, the, golden, kingdom, is, sunk, underg...              None\n",
       "\n",
       "[21460 rows x 2 columns]"
      ]
     },
     "execution_count": 14,
     "metadata": {},
     "output_type": "execute_result"
    }
   ],
   "source": [
    "anime_data[['token', 'without_stopwords']]"
   ]
  }
 ],
 "metadata": {
  "kernelspec": {
   "display_name": "animedash_env",
   "language": "python",
   "name": "python3"
  },
  "language_info": {
   "codemirror_mode": {
    "name": "ipython",
    "version": 3
   },
   "file_extension": ".py",
   "mimetype": "text/x-python",
   "name": "python",
   "nbconvert_exporter": "python",
   "pygments_lexer": "ipython3",
   "version": "3.11.1"
  },
  "orig_nbformat": 4,
  "vscode": {
   "interpreter": {
    "hash": "fedca4c0cd4b3dc4968490f8db79446cd58d245a4734a156cee61883fa7a1462"
   }
  }
 },
 "nbformat": 4,
 "nbformat_minor": 2
}
