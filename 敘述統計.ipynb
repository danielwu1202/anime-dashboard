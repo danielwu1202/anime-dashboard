{
 "cells": [
  {
   "cell_type": "code",
   "execution_count": 15,
   "metadata": {},
   "outputs": [],
   "source": [
    "import glob\n",
    "import pandas as pd\n",
    "from descriptive_statistics import tool"
   ]
  },
  {
   "cell_type": "code",
   "execution_count": 26,
   "metadata": {},
   "outputs": [],
   "source": [
    "files = glob.glob('year/*.csv')\n",
    "\n",
    "for f in files:\n",
    "    csv = pd.read_csv(f)\n",
    "\n",
    "    type_counter = tool.type_counter(csv)\n",
    "    genres_counter = tool.genres_counter(csv)\n",
    "    theme_counter = tool.theme_counter(csv)\n",
    "\n",
    "    type_counter.to_csv('type_counter_' + str(f[5:]) + '.csv', index=False, encoding='utf-8')\n",
    "\n",
    "    genres_counter.to_csv('genres_counter_' + str(f[5:]) + '.csv', index=False, encoding='utf-8')\n",
    "\n",
    "    theme_counter.to_csv('theme_counter_' + str(f[5:]) + '.csv', index=False, encoding='utf-8')"
   ]
  }
 ],
 "metadata": {
  "kernelspec": {
   "display_name": "Python 3.9.12 ('base')",
   "language": "python",
   "name": "python3"
  },
  "language_info": {
   "codemirror_mode": {
    "name": "ipython",
    "version": 3
   },
   "file_extension": ".py",
   "mimetype": "text/x-python",
   "name": "python",
   "nbconvert_exporter": "python",
   "pygments_lexer": "ipython3",
   "version": "3.9.12"
  },
  "orig_nbformat": 4,
  "vscode": {
   "interpreter": {
    "hash": "263930470851f494f0ed2879c35b57985588df20f9e529b86e97dd5eb9ddc466"
   }
  }
 },
 "nbformat": 4,
 "nbformat_minor": 2
}
